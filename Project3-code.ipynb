{
 "cells": [
  {
   "cell_type": "code",
   "execution_count": 46,
   "id": "37496850",
   "metadata": {},
   "outputs": [],
   "source": [
    "import numpy as np\n",
    "import matplotlib.pyplot as plt\n",
    "\n",
    "class Utils:\n",
    "    def __init__(self, alpha, beta):\n",
    "        # parameters of Value Neural Network\n",
    "        self.W = [0.1] * 6\n",
    "        self.b_w = [0.1] * 3\n",
    "        self.H_w = [0.1] * 2\n",
    "        # parameters of Action Neural Network\n",
    "        self.Q = [0.1] * 6\n",
    "        self.b_Q = [0.1] * 3\n",
    "        self.H_Q = [0.1] * 2\n",
    "        # define super parameters\n",
    "#         self.alpha = 1e-9\n",
    "#         self.beta = 1e-9\n",
    "        self.alpha = alpha\n",
    "        self.beta = beta\n",
    "        self.lamb_w = 0\n",
    "        self.lamb_Q = 0\n",
    "        # eligibility trace vector\n",
    "        self.z_w = [0] * 9\n",
    "        self.z_Q = [0] * 9\n",
    "        # simulate stock price\n",
    "        self.S0 = 100\n",
    "        self.S = self.S0\n",
    "        self.avg_reward_track = []\n",
    "        self.K = 100\n",
    "        self.su = 1.1\n",
    "        self.sd = 1 / 1.1\n",
    "        \n",
    "        self.avgR = 0\n",
    "        \n",
    "    def reset(self):\n",
    "        self.z_w = [0] * 9\n",
    "        self.z_Q = [0] * 9\n",
    "        self.S = self.S0\n",
    "        self.avgR = 0\n",
    "        \n",
    "    # construct value neural network\n",
    "    def valueNetwork(self, I1, I2):\n",
    "        # construct hidden layer\n",
    "        self.H_w[0] = I1 * self.W[0] + I2 * self.W[2] + self.b_w[0]\n",
    "        self.H_w[1] = I1 * self.W[1] + I2 * self.W[3] + self.b_w[1]\n",
    "        # construct output layer\n",
    "        O1 = self.H_w[0] * self.W[4] + self.H_w[1] * self.W[5] + self.b_w[2]\n",
    "        return O1\n",
    "    \n",
    "    # construct action/Policy neural network (pi)\n",
    "    def actionNetwork(self, I1, I2):\n",
    "        # construct hidden layer\n",
    "        self.H_Q[0] = I1 * self.Q[0] + I2 * self.Q[2] + self.b_Q[0]\n",
    "        self.H_Q[1] = I1 * self.Q[1] + I2 * self.Q[3] + self.b_Q[1]\n",
    "        # construct output layer\n",
    "        O1 = self.H_Q[0] * self.Q[4] + self.H_Q[1] * self.Q[5] + self.b_Q[2]\n",
    "        return O1\n",
    "    \n",
    "    # obtain the next stock price with binomial pricing method\n",
    "    def nextStock(self, S):\n",
    "        isUp = np.random.rand() >= 0.5\n",
    "        if isUp:\n",
    "            S_next = S * self.su\n",
    "        else:\n",
    "            S_next = S * self.sd\n",
    "        return S_next\n",
    "    \n",
    "    # define a reward function manually\n",
    "    def reward(self, C, C_next, S, S_next, act):\n",
    "        diff = -1 * abs(C_next - C - act * (S_next - S))\n",
    "        return diff\n",
    "    \n",
    "    # calculate call Pricec in terms of stock price\n",
    "    def callPrice(self, S):\n",
    "        C = 0.5 * (max(0, S * self.su - self.K)) + 0.5 * (max(0, S * self.sd - self.K))\n",
    "        return C\n",
    "    \n",
    "    def deriveValue(self, I1, I2):\n",
    "        d_w = [0] * 6\n",
    "        d_b = [0] * 3\n",
    "        \n",
    "        d_w[0] = self.W[4] * I1\n",
    "        d_w[1] = self.W[5] * I1\n",
    "        d_w[2] = self.W[4] * I2\n",
    "        d_w[3] = self.W[5] * I2\n",
    "        d_w[4] = self.H_w[0]\n",
    "        d_w[5] = self.H_w[1]\n",
    "        \n",
    "        d_b[0] = self.W[4]\n",
    "        d_b[1] = self.W[5]\n",
    "        d_b[2] = 1\n",
    "        return d_w, d_b\n",
    "   \n",
    "    def deriveAction(self, I1, I2):\n",
    "        d_Q = [0] * 6\n",
    "        d_b = [0] * 3\n",
    "        temp = 1 / (self.actionNetwork(I1, I2) + 0.01)\n",
    "        \n",
    "        d_Q[0] = self.Q[4] * I1 * temp\n",
    "        d_Q[1] = self.Q[5] * I1 * temp\n",
    "        d_Q[2] = self.Q[4] * I2 * temp\n",
    "        d_Q[3] = self.Q[5] * I2 * temp\n",
    "        d_Q[4] = self.H_Q[0] * temp\n",
    "        d_Q[5] = self.H_Q[1] * temp\n",
    "        \n",
    "        d_b[0] = self.Q[4] * temp\n",
    "        d_b[1] = self.Q[5] * temp\n",
    "        d_b[2] = 1 * temp\n",
    "        return d_Q, d_b"
   ]
  },
  {
   "cell_type": "code",
   "execution_count": 47,
   "id": "f4cc30f7",
   "metadata": {},
   "outputs": [],
   "source": [
    "# inherit the class \"Utils\"\n",
    "class Model(Utils):\n",
    "    def __init__(self, alpha, beta):\n",
    "        super(Model, self).__init__(alpha, beta)\n",
    "        self.epsilon = 0\n",
    "    \n",
    "    def action(self, C, S):\n",
    "        isGreedy = np.random.rand() >= self.epsilon\n",
    "        if not isGreedy:\n",
    "            act = np.random.rand()\n",
    "        else:\n",
    "            act = self.actionNetwork(C, S)\n",
    "        return act\n",
    "    \n",
    "    def step(self, S, ind):\n",
    "        S_next = self.nextStock(S)\n",
    "        C = self.callPrice(S)\n",
    "        C_next = self.callPrice(S_next)\n",
    "        act = self.action(C, S)\n",
    "        \n",
    "        R = self.reward(C, C_next, S, S_next, act)\n",
    "        gamma = R - self.avgR + self.valueNetwork(C_next, S_next) - self.valueNetwork(C, S)\n",
    "        self.avgR = self.avgR + gamma / ind\n",
    "        \n",
    "        d_w, d_b_w = self.deriveValue(C, S)\n",
    "        d_Q, d_b_Q = self.deriveAction(C, S)\n",
    "        for i in range(6):\n",
    "            self.z_w[i] = self.lamb_w * self.z_w[i] + d_w[i]\n",
    "            self.z_Q[i] = self.lamb_Q * self.z_Q[i] + d_Q[i]\n",
    "        \n",
    "        for i in range(3):\n",
    "            self.z_w[i+6] = self.lamb_w * self.z_w[i+6] + d_b_w[i]\n",
    "            self.z_Q[i+6] = self.lamb_Q * self.z_Q[i+6] + d_b_Q[i]\n",
    "            \n",
    "        for i in range(6):\n",
    "            self.W[i] = self.W[i] + self.beta * gamma * self.z_w[i]\n",
    "            self.Q[i] = self.Q[i] + self.alpha * gamma * self.z_Q[i]\n",
    "        \n",
    "        for i in range(3):\n",
    "            self.b_w[i] = self.b_w[i] + self.beta * gamma * self.z_w[i+6]\n",
    "            self.b_Q[i] = self.b_Q[i] + self.alpha * gamma * self.z_Q[i+6]\n",
    "        \n",
    "        return R\n",
    "    \n",
    "    def train(self, T):\n",
    "        reward = 0\n",
    "        self.reset()\n",
    "        for i in range(T):\n",
    "            R = self.step(self.S, i+1)\n",
    "            self.S = self.nextStock(self.S)\n",
    "            reward += R\n",
    "        avgRe = reward/episodes\n",
    "        self.avg_reward_track.append(avgRe)\n",
    "        "
   ]
  },
  {
   "cell_type": "markdown",
   "id": "e8e54446",
   "metadata": {},
   "source": [
    "### Case 1: Time step T=1, the model performs quite well as the reward value converges to near-zero quickly."
   ]
  },
  {
   "cell_type": "code",
   "execution_count": 48,
   "id": "4f642fe1",
   "metadata": {},
   "outputs": [
    {
     "name": "stdout",
     "output_type": "stream",
     "text": [
      "execute: 0.0 %\n",
      "execute: 10.0 %\n",
      "execute: 20.0 %\n",
      "execute: 30.0 %\n",
      "execute: 40.0 %\n",
      "execute: 50.0 %\n",
      "execute: 60.0 %\n",
      "execute: 70.0 %\n",
      "execute: 80.0 %\n",
      "execute: 90.0 %\n"
     ]
    }
   ],
   "source": [
    "# nums = 1000000\n",
    "# episodes = 5\n",
    "nums = 1000000\n",
    "T = 1\n",
    "\n",
    "alpha = 1e-8\n",
    "beta = 1e-8\n",
    "model = Model(alpha, beta)\n",
    "for i in range(nums):\n",
    "    if i % (nums/10) == 0:\n",
    "        print(\"execute:\", i / nums * 100, \"%\")\n",
    "    model.train(T)"
   ]
  },
  {
   "cell_type": "code",
   "execution_count": 49,
   "id": "bdaa5485",
   "metadata": {
    "scrolled": true
   },
   "outputs": [
    {
     "data": {
      "image/png": "[encoded data removed]",
      "text/plain": [
       "<Figure size 432x288 with 1 Axes>"
      ]
     },
     "metadata": {
      "needs_background": "light"
     },
     "output_type": "display_data"
    }
   ],
   "source": [
    "re = model.avg_reward_track\n",
    "newRe = []\n",
    "x = []\n",
    "for i in range(len(re)):\n",
    "    if i % 5000 == 0:\n",
    "        newRe.append(re[i])\n",
    "        x.append(i)\n",
    "\n",
    "plt.plot(x, newRe)\n",
    "plt.show()"
   ]
  },
  {
   "cell_type": "code",
   "execution_count": 51,
   "id": "8bf782d6",
   "metadata": {},
   "outputs": [
    {
     "data": {
      "text/plain": [
       "[-0.0029181677504395154,\n",
       " -0.0026538659988410984,\n",
       " -0.002652886915575081,\n",
       " -0.0026519078476594515,\n",
       " -0.002916021674604252,\n",
       " -0.002651915053901277,\n",
       " -0.002650936001225901,\n",
       " -0.0026499569639000242,\n",
       " -0.0029138757361213408,\n",
       " -0.0029149606572058673]"
      ]
     },
     "execution_count": 51,
     "metadata": {},
     "output_type": "execute_result"
    }
   ],
   "source": [
    "# reward越接近0，说明模型的结果越好\n",
    "model.avg_reward_track[-10:]"
   ]
  },
  {
   "cell_type": "markdown",
   "id": "4cc782d0",
   "metadata": {},
   "source": [
    "### Case 2: Time step T=5. We can see the reward function has much higher oscillation and slower convergence compared with the case of T=1. To improve the model, we might deepen our neural network and conduct parameter tuning further.\n"
   ]
  },
  {
   "cell_type": "code",
   "execution_count": 70,
   "id": "e147dfb9",
   "metadata": {},
   "outputs": [
    {
     "name": "stdout",
     "output_type": "stream",
     "text": [
      "execute: 0.0 %\n",
      "execute: 10.0 %\n",
      "execute: 20.0 %\n",
      "execute: 30.0 %\n",
      "execute: 40.0 %\n",
      "execute: 50.0 %\n",
      "execute: 60.0 %\n",
      "execute: 70.0 %\n",
      "execute: 80.0 %\n",
      "execute: 90.0 %\n"
     ]
    }
   ],
   "source": [
    "nums = 2000000\n",
    "T = 5\n",
    "alpha = 5e-10\n",
    "beta = 5e-10\n",
    "model = Model(alpha, beta)\n",
    "for i in range(nums):\n",
    "    if i % (nums/10) == 0:\n",
    "        print(\"execute:\", i / nums * 100, \"%\")\n",
    "    model.train(T)"
   ]
  },
  {
   "cell_type": "code",
   "execution_count": 61,
   "id": "207ae609",
   "metadata": {},
   "outputs": [
    {
     "data": {
      "image/png": "[encoded data removed]",
      "text/plain": [
       "<Figure size 432x288 with 1 Axes>"
      ]
     },
     "metadata": {
      "needs_background": "light"
     },
     "output_type": "display_data"
    }
   ],
   "source": [
    "re = model.avg_reward_track\n",
    "newRe = []\n",
    "x = []\n",
    "for i in range(len(re)):\n",
    "    if i % 5000 == 0:\n",
    "        newRe.append(re[i])\n",
    "        x.append(i)\n",
    "\n",
    "plt.plot(x, newRe)\n",
    "plt.show()"
   ]
  },
  {
   "cell_type": "code",
   "execution_count": 69,
   "id": "c233faf9",
   "metadata": {},
   "outputs": [
    {
     "data": {
      "text/plain": [
       "-0.8515228715708707"
      ]
     },
     "execution_count": 69,
     "metadata": {},
     "output_type": "execute_result"
    }
   ],
   "source": [
    "# The closer reward is to 0, the better the model is\n",
    "max(model.avg_reward_track)"
   ]
  },
  {
   "cell_type": "code",
   "execution_count": 65,
   "id": "13439bec",
   "metadata": {},
   "outputs": [
    {
     "data": {
      "text/plain": [
       "[-3.51538650267288,\n",
       " -2.0262195508530954,\n",
       " -2.2708733156818908,\n",
       " -2.0892546115300554,\n",
       " -2.1894037602267042,\n",
       " -2.9278844662330257,\n",
       " -2.216241634959423,\n",
       " -3.803458581087638,\n",
       " -2.2104027349507356,\n",
       " -2.958214662079879]"
      ]
     },
     "execution_count": 65,
     "metadata": {},
     "output_type": "execute_result"
    }
   ],
   "source": [
    "model.avg_reward_track[-10:]"
   ]
  },
  {
   "cell_type": "code",
   "execution_count": null,
   "id": "5ffb8b53",
   "metadata": {},
   "outputs": [],
   "source": []
  },
  {
   "cell_type": "markdown",
   "id": "7d80d7d6",
   "metadata": {},
   "source": [
    "## Simulate result of delta hedge with black-scholes model "
   ]
  },
  {
   "cell_type": "code",
   "execution_count": 78,
   "id": "7fa792c3",
   "metadata": {},
   "outputs": [],
   "source": [
    "import numpy as np\n",
    "\n",
    "\n",
    "class BS_Model():\n",
    "    def __init__(self):\n",
    "        # simulate stock price\n",
    "        self.S0 = 100\n",
    "        self.S = self.S0\n",
    "        self.K = 100\n",
    "        self.su = 1.1\n",
    "        self.sd = 1 / 1.1\n",
    "        self.reward_track = []\n",
    "        \n",
    "    def reset(self):\n",
    "        self.S0 = 100\n",
    "        self.S = self.S0\n",
    "        self.K = 100\n",
    "        self.su = 1.1\n",
    "        self.sd = 1 / 1.1\n",
    "        self.reward_track = []\n",
    "        \n",
    "    # obtain the next stock price with binomial pricing method\n",
    "    def nextStock(self, S):\n",
    "        isUp = np.random.rand() >= 0.5\n",
    "        if isUp:\n",
    "            S_next = S * self.su\n",
    "        else:\n",
    "            S_next = S * self.sd\n",
    "        return S_next\n",
    "    \n",
    "    # calculate call Pricec in terms of stock price\n",
    "    def callPrice(self, S):\n",
    "        C = 0.5 * (max(0, S * self.su - self.K)) + 0.5 * (max(0, S * self.sd - self.K))\n",
    "        return C\n",
    "    \n",
    "    def calDelta(self, S):\n",
    "        Cu = self.callPrice(self.su * S)\n",
    "        Cd = self.callPrice(self.sd * S)\n",
    "        delta = (Cu - Cd) / (self.su * S - self.sd * S)\n",
    "#         print(\"***\", self.su * S, \" \", self.sd * S)\n",
    "#         print(\"****\", Cu, \" \", Cd)\n",
    "#         print(\"*****\", delta)\n",
    "        return delta\n",
    "    \n",
    "    # define a reward function manually\n",
    "    def reward(self, C, C_next, S, S_next, delta):\n",
    "        diff = -1 * abs(C_next - C - delta * (S_next - S))\n",
    "#         print(delta)\n",
    "        return diff\n",
    "    \n",
    "    def step(self, S):\n",
    "        S_next = self.nextStock(S)\n",
    "        C = self.callPrice(S)\n",
    "        C_next = self.callPrice(S_next)\n",
    "        delta = self.calDelta(S)\n",
    "        reward = self.reward(C, C_next, S, S_next, delta)\n",
    "        self.reward_track.append(reward)\n",
    "#         print(\"delta: \", round(delta,2), \" C: \", round(C,2),\" C_next: \", round(C_next,2), \" S: \", round(S,2), \" S_next: \", round(S_next,2), \" reward:\", round(reward,2))\n",
    "        \n",
    "        \n",
    "    def train(self, T):\n",
    "        self.reset()\n",
    "        for i in range(T):\n",
    "            self.step(self.S)\n",
    "            self.S = self.nextStock(self.S)"
   ]
  },
  {
   "cell_type": "code",
   "execution_count": 83,
   "id": "89a20cc9",
   "metadata": {},
   "outputs": [
    {
     "data": {
      "image/png": "[encoded data removed]",
      "text/plain": [
       "<Figure size 432x288 with 1 Axes>"
      ]
     },
     "metadata": {
      "needs_background": "light"
     },
     "output_type": "display_data"
    }
   ],
   "source": [
    "import matplotlib.pyplot as plt\n",
    "model = BS_Model()\n",
    "\n",
    "model.train(100)\n",
    "res = model.reward_track\n",
    "\n",
    "plt.plot(res)\n",
    "plt.show()"
   ]
  },
  {
   "cell_type": "markdown",
   "id": "96d10e7e",
   "metadata": {},
   "source": [
    "### Summary of Delta Hedge:\n",
    "In the reward graph, we can find the reward value is highly volatile, and several points have zero rewards (which is most preferred). \n",
    "\n",
    "Those zero-reward points refer to the fully hedged situation where the stock price is very high or low, s.t. delta = 1 or 0. \n",
    "\n",
    "From the reward graph, we can see delta hedge doesn’t work out well. We think it may be because the price change is discrete, therefore, delta = dc/dS can’t perfectly fit the change of European call option price along with stock price.\n"
   ]
  },
  {
   "cell_type": "markdown",
   "id": "d5f356d1",
   "metadata": {},
   "source": []
  },
  {
   "cell_type": "code",
   "execution_count": null,
   "id": "86351f63",
   "metadata": {},
   "outputs": [],
   "source": []
  }
 ],
 "metadata": {
  "kernelspec": {
   "display_name": "Python 3",
   "language": "python",
   "name": "python3"
  },
  "language_info": {
   "codemirror_mode": {
    "name": "ipython",
    "version": 3
   },
   "file_extension": ".py",
   "mimetype": "text/x-python",
   "name": "python",
   "nbconvert_exporter": "python",
   "pygments_lexer": "ipython3",
   "version": "3.8.8"
  }
 },
 "nbformat": 4,
 "nbformat_minor": 5
}
